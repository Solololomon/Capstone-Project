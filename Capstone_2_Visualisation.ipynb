{
 "cells": [
  {
   "cell_type": "markdown",
   "id": "3c06bd9d",
   "metadata": {},
   "source": [
    "# Capstone Project - Visualisation\n",
    "\n",
    "Objective: Using the given dataset, produce the following insights:\n",
    " - 1, The best performing product\n",
    " - 2, Information on user demographics\n",
    " - 3, Whether sales are seasonal\n",
    " - 4, Justification of marketing spends in the regions UK South East, UK North East, UK North, and UK South\n",
    " - 5, CPA (cost per acquisition) per region against the expected average (available at https://mystaticwebsite-3.s3.amazonaws.com/index.html)\n",
    "\n",
    "Created By: Solomon Williams\n",
    "\n",
    "Creation Date: 04/11/2022"
   ]
  },
  {
   "cell_type": "markdown",
   "id": "712bad8f",
   "metadata": {},
   "source": [
    "##### Last Updated"
   ]
  },
  {
   "cell_type": "code",
   "execution_count": 36,
   "id": "9eca1570",
   "metadata": {},
   "outputs": [
    {
     "name": "stdout",
     "output_type": "stream",
     "text": [
      "Last Updated: 08/11/2022 15:30:55\n"
     ]
    }
   ],
   "source": [
    "from datetime import datetime, timedelta\n",
    "\n",
    "print(f\"Last Updated: {datetime.now().strftime('%d/%m/%Y %H:%M:%S')}\")"
   ]
  },
  {
   "cell_type": "markdown",
   "id": "c724b548",
   "metadata": {},
   "source": [
    "### Importing Packages"
   ]
  },
  {
   "cell_type": "code",
   "execution_count": 37,
   "id": "3add3709",
   "metadata": {},
   "outputs": [],
   "source": [
    "import pandas as pd\n",
    "import numpy as np\n",
    "\n",
    "# Packages for plotting\n",
    "import matplotlib.pyplot as plt\n",
    "import seaborn as sns\n",
    "\n",
    "# Packages for web scraping\n",
    "import requests\n",
    "from bs4 import BeautifulSoup\n",
    "import re"
   ]
  },
  {
   "cell_type": "markdown",
   "id": "70cab510",
   "metadata": {},
   "source": [
    "### Importing Clean Data"
   ]
  },
  {
   "cell_type": "code",
   "execution_count": 38,
   "id": "5c746523",
   "metadata": {},
   "outputs": [
    {
     "data": {
      "text/html": [
       "<div>\n",
       "<style scoped>\n",
       "    .dataframe tbody tr th:only-of-type {\n",
       "        vertical-align: middle;\n",
       "    }\n",
       "\n",
       "    .dataframe tbody tr th {\n",
       "        vertical-align: top;\n",
       "    }\n",
       "\n",
       "    .dataframe thead th {\n",
       "        text-align: right;\n",
       "    }\n",
       "</style>\n",
       "<table border=\"1\" class=\"dataframe\">\n",
       "  <thead>\n",
       "    <tr style=\"text-align: right;\">\n",
       "      <th></th>\n",
       "      <th>order_id</th>\n",
       "      <th>product</th>\n",
       "      <th>quantity</th>\n",
       "      <th>age</th>\n",
       "      <th>uk_region</th>\n",
       "      <th>cpa</th>\n",
       "      <th>month</th>\n",
       "      <th>year</th>\n",
       "    </tr>\n",
       "  </thead>\n",
       "  <tbody>\n",
       "    <tr>\n",
       "      <th>0</th>\n",
       "      <td>1</td>\n",
       "      <td>toothbrush</td>\n",
       "      <td>1</td>\n",
       "      <td>21</td>\n",
       "      <td>UK North East</td>\n",
       "      <td>2</td>\n",
       "      <td>Oct</td>\n",
       "      <td>2021</td>\n",
       "    </tr>\n",
       "    <tr>\n",
       "      <th>1</th>\n",
       "      <td>2</td>\n",
       "      <td>toys</td>\n",
       "      <td>2</td>\n",
       "      <td>35</td>\n",
       "      <td>UK South East</td>\n",
       "      <td>3</td>\n",
       "      <td>Oct</td>\n",
       "      <td>2021</td>\n",
       "    </tr>\n",
       "    <tr>\n",
       "      <th>2</th>\n",
       "      <td>3</td>\n",
       "      <td>toothbrush</td>\n",
       "      <td>1</td>\n",
       "      <td>24</td>\n",
       "      <td>UK North</td>\n",
       "      <td>2</td>\n",
       "      <td>Oct</td>\n",
       "      <td>2021</td>\n",
       "    </tr>\n",
       "    <tr>\n",
       "      <th>3</th>\n",
       "      <td>4</td>\n",
       "      <td>toothbrush</td>\n",
       "      <td>1</td>\n",
       "      <td>21</td>\n",
       "      <td>UK North East</td>\n",
       "      <td>4</td>\n",
       "      <td>Dec</td>\n",
       "      <td>2021</td>\n",
       "    </tr>\n",
       "    <tr>\n",
       "      <th>4</th>\n",
       "      <td>5</td>\n",
       "      <td>toothbrush</td>\n",
       "      <td>2</td>\n",
       "      <td>20</td>\n",
       "      <td>UK North</td>\n",
       "      <td>5</td>\n",
       "      <td>Oct</td>\n",
       "      <td>2021</td>\n",
       "    </tr>\n",
       "  </tbody>\n",
       "</table>\n",
       "</div>"
      ],
      "text/plain": [
       "   order_id     product  quantity  age      uk_region  cpa month  year\n",
       "0         1  toothbrush         1   21  UK North East    2   Oct  2021\n",
       "1         2        toys         2   35  UK South East    3   Oct  2021\n",
       "2         3  toothbrush         1   24       UK North    2   Oct  2021\n",
       "3         4  toothbrush         1   21  UK North East    4   Dec  2021\n",
       "4         5  toothbrush         2   20       UK North    5   Oct  2021"
      ]
     },
     "execution_count": 38,
     "metadata": {},
     "output_type": "execute_result"
    }
   ],
   "source": [
    "df = pd.read_csv('clean_capstone_data.csv')\n",
    "\n",
    "# Again, I want to display the float values as integers without changing their format:\n",
    "pd.options.display.float_format = '{:,.0f}'.format\n",
    "\n",
    "df.head()"
   ]
  },
  {
   "cell_type": "markdown",
   "id": "152309f7",
   "metadata": {},
   "source": [
    "### Objective 1: Product Performances"
   ]
  },
  {
   "cell_type": "markdown",
   "id": "9790ca97",
   "metadata": {},
   "source": [
    "I will produce a bar chart comparing the total number of sales for each product. This will involve creating a new table of the sum of quantities sold for each product."
   ]
  },
  {
   "cell_type": "code",
   "execution_count": 39,
   "id": "9e719e90",
   "metadata": {},
   "outputs": [
    {
     "data": {
      "text/html": [
       "<div>\n",
       "<style scoped>\n",
       "    .dataframe tbody tr th:only-of-type {\n",
       "        vertical-align: middle;\n",
       "    }\n",
       "\n",
       "    .dataframe tbody tr th {\n",
       "        vertical-align: top;\n",
       "    }\n",
       "\n",
       "    .dataframe thead th {\n",
       "        text-align: right;\n",
       "    }\n",
       "</style>\n",
       "<table border=\"1\" class=\"dataframe\">\n",
       "  <thead>\n",
       "    <tr style=\"text-align: right;\">\n",
       "      <th></th>\n",
       "      <th>product</th>\n",
       "      <th>quantity</th>\n",
       "    </tr>\n",
       "  </thead>\n",
       "  <tbody>\n",
       "    <tr>\n",
       "      <th>0</th>\n",
       "      <td>Toothbrush</td>\n",
       "      <td>39</td>\n",
       "    </tr>\n",
       "    <tr>\n",
       "      <th>1</th>\n",
       "      <td>Toys</td>\n",
       "      <td>27</td>\n",
       "    </tr>\n",
       "  </tbody>\n",
       "</table>\n",
       "</div>"
      ],
      "text/plain": [
       "      product  quantity\n",
       "0  Toothbrush        39\n",
       "1        Toys        27"
      ]
     },
     "execution_count": 39,
     "metadata": {},
     "output_type": "execute_result"
    }
   ],
   "source": [
    "sales = df.groupby(['product']).quantity.sum().reset_index()\n",
    "\n",
    "# As this data will be plotted, I want to capitalize the entries:\n",
    "sales['product'] = sales['product'].str.capitalize()\n",
    "\n",
    "sales.head()"
   ]
  },
  {
   "cell_type": "markdown",
   "id": "97a8eecf",
   "metadata": {},
   "source": [
    "Alternatively, this could have been done by creating a view in the MySQL database:<br>\n",
    "\n",
    "CREATE VIEW sales AS <br>\n",
    "SELECT <br>\n",
    "CAP.product, <br>\n",
    "SUM(CAP.quantity) <br>\n",
    "FROM clean_capstone_data CAP <br>\n",
    "GROUP BY product; <br>\n",
    "<br>\n",
    "and then reading the exported CSV into Python."
   ]
  },
  {
   "cell_type": "markdown",
   "id": "24875f8a",
   "metadata": {},
   "source": [
    "Now I will plot the information:"
   ]
  },
  {
   "cell_type": "code",
   "execution_count": 40,
   "id": "98428780",
   "metadata": {},
   "outputs": [
    {
     "data": {
      "image/png": "[encoded data removed]",
      "text/plain": [
       "<Figure size 1152x432 with 1 Axes>"
      ]
     },
     "metadata": {},
     "output_type": "display_data"
    }
   ],
   "source": [
    "fig, ax = plt.subplots(1, 1, figsize = (16,6))\n",
    "sns.set_style(\"darkgrid\")\n",
    "\n",
    "plt.bar(x=sales['product'], height = sales['quantity'].astype(int), color = ['#4a2b7a', '#9455f4'], width = 0.8, align = 'center')\n",
    "\n",
    "ax.set_xlabel('Product', fontdict={'fontsize':14}, labelpad=12)\n",
    "ax.set_ylabel('Quantity of Sales', fontdict={'fontsize':14}, labelpad=12)\n",
    "ax.set_title('Total Sales by Product', fontdict={'fontsize':16}, pad=12)\n",
    "\n",
    "# The following code will add counter labels to each bar for easier visualisation:\n",
    "for rect1 in ax.containers[0]:\n",
    "    height = rect1.get_height()\n",
    "    plt.annotate(\"{}\".format(height),(rect1.get_x() + rect1.get_width()/2, height+.05),ha=\"center\",va=\"bottom\")\n",
    "\n",
    "# This adds a bit of space at the top of my chart for the bar labels:\n",
    "plt.ylim(0,42)\n",
    "\n",
    "plt.savefig('Product_Sales.png', bbox_inches='tight', dpi=150, facecolor=(1,1,1))\n",
    "plt.show()"
   ]
  },
  {
   "cell_type": "code",
   "execution_count": 41,
   "id": "d5f79763",
   "metadata": {},
   "outputs": [
    {
     "name": "stdout",
     "output_type": "stream",
     "text": [
      "Toothbrush sales make up 59.1% of total sales\n"
     ]
    }
   ],
   "source": [
    "print(f'Toothbrush sales make up {round(39*100/(39+27), 1)}% of total sales')"
   ]
  },
  {
   "cell_type": "markdown",
   "id": "1f41ee85",
   "metadata": {},
   "source": [
    "#### Conclusion\n",
    "From this plot it's clear to see that toothbrushes are performing better than toys, serving as roughly 60% of all purchases."
   ]
  },
  {
   "cell_type": "markdown",
   "id": "52888760",
   "metadata": {},
   "source": [
    "### Objective 2: Demographic Information"
   ]
  },
  {
   "cell_type": "markdown",
   "id": "c733e461",
   "metadata": {},
   "source": [
    "I will create two pie charts to convey customer demographics for anyone who made a purchse, regardless of the quantity of products bought.<br> The first chart will be based on age, grouped by the ranges: Under 25, 25-29, 30-34, 35-39, 40-44, 45-49, 50-54, Over 55.<br>\n",
    "\n",
    "The second chart will be based on region."
   ]
  },
  {
   "cell_type": "markdown",
   "id": "5806d9cd",
   "metadata": {},
   "source": [
    "I will generate a MySQL view for age ranges using the following query:<br>\n",
    "\n",
    "CREATE VIEW age_range AS <br>\n",
    "SELECT <br>\n",
    "CASE <br>\n",
    "WHEN age < 25 THEN 'Under 25' <br>\n",
    "WHEN age BETWEEN 25 AND 29 THEN '25-29' <br>\n",
    "WHEN age BETWEEN 30 AND 34 THEN '30-34' <br>\n",
    "WHEN age BETWEEN 35 AND 39 THEN '35-39' <br>\n",
    "WHEN age BETWEEN 40 AND 44 THEN '40-44' <br>\n",
    "WHEN age BETWEEN 45 AND 49 THEN '45-49' <br>\n",
    "WHEN age BETWEEN 50 AND 54 THEN '50-54' <br>\n",
    "WHEN age >= 55 THEN 'Over 55' <br>\n",
    "END AS age_range <br>\n",
    "FROM clean_capstone_data <br>\n",
    "<br>\n",
    "This is exported as 'age_range.csv'"
   ]
  },
  {
   "cell_type": "code",
   "execution_count": 42,
   "id": "bcbd0a7f",
   "metadata": {},
   "outputs": [
    {
     "data": {
      "text/html": [
       "<div>\n",
       "<style scoped>\n",
       "    .dataframe tbody tr th:only-of-type {\n",
       "        vertical-align: middle;\n",
       "    }\n",
       "\n",
       "    .dataframe tbody tr th {\n",
       "        vertical-align: top;\n",
       "    }\n",
       "\n",
       "    .dataframe thead th {\n",
       "        text-align: right;\n",
       "    }\n",
       "</style>\n",
       "<table border=\"1\" class=\"dataframe\">\n",
       "  <thead>\n",
       "    <tr style=\"text-align: right;\">\n",
       "      <th></th>\n",
       "      <th>age_range</th>\n",
       "    </tr>\n",
       "  </thead>\n",
       "  <tbody>\n",
       "    <tr>\n",
       "      <th>0</th>\n",
       "      <td>Under 25</td>\n",
       "    </tr>\n",
       "    <tr>\n",
       "      <th>1</th>\n",
       "      <td>35-39</td>\n",
       "    </tr>\n",
       "    <tr>\n",
       "      <th>2</th>\n",
       "      <td>Under 25</td>\n",
       "    </tr>\n",
       "    <tr>\n",
       "      <th>3</th>\n",
       "      <td>Under 25</td>\n",
       "    </tr>\n",
       "    <tr>\n",
       "      <th>4</th>\n",
       "      <td>Under 25</td>\n",
       "    </tr>\n",
       "  </tbody>\n",
       "</table>\n",
       "</div>"
      ],
      "text/plain": [
       "  age_range\n",
       "0  Under 25\n",
       "1     35-39\n",
       "2  Under 25\n",
       "3  Under 25\n",
       "4  Under 25"
      ]
     },
     "execution_count": 42,
     "metadata": {},
     "output_type": "execute_result"
    }
   ],
   "source": [
    "age_range = pd.read_csv('age_range.csv')\n",
    "age_range.head()"
   ]
  },
  {
   "cell_type": "code",
   "execution_count": 43,
   "id": "a766b36c",
   "metadata": {},
   "outputs": [
    {
     "name": "stdout",
     "output_type": "stream",
     "text": [
      "age_range\n",
      "Under 25     21\n",
      "Over 55      10\n",
      "30-34         9\n",
      "35-39         6\n",
      "50-54         3\n",
      "45-49         1\n",
      "dtype: int64\n",
      "UK South East    22\n",
      "UK North East    20\n",
      "UK North          8\n",
      "Name: uk_region, dtype: int64\n"
     ]
    }
   ],
   "source": [
    "print(age_range.value_counts())\n",
    "print(df['uk_region'].value_counts())"
   ]
  },
  {
   "cell_type": "markdown",
   "id": "f6f1d711",
   "metadata": {},
   "source": [
    "There are no entries for ages 25-29 and 40-44, so we can omit these in our pie chart labels. Similarly, the label for UK South will be omitted in the region chart. <br>\n",
    "These labels are written in order of highest to lowest count."
   ]
  },
  {
   "cell_type": "code",
   "execution_count": 44,
   "id": "8f3ff987",
   "metadata": {},
   "outputs": [
    {
     "data": {
      "image/png": "[encoded data removed]",
      "text/plain": [
       "<Figure size 1152x432 with 2 Axes>"
      ]
     },
     "metadata": {},
     "output_type": "display_data"
    }
   ],
   "source": [
    "fig, ax = plt.subplots(1, 2, figsize = (16,6))\n",
    "\n",
    "age_labels = ['Under 25', 'Over 55', '30-34', '35-39', '50-54', '45-49']\n",
    "region_labels = ['UK South East', 'UK North East', 'UK North']\n",
    "colors = ['#4a2b7a', '#593392', '#683bab', '#7644c3', '#854ddc', '#9455f4']\n",
    "\n",
    "ax[0].set_title('Customers by Age Range')\n",
    "ax[0].pie(age_range.value_counts(), labels = age_labels, colors=colors[:6],  startangle = 90, \n",
    "        explode = [0.2, 0, 0, 0, 0, 0])\n",
    "\n",
    "ax[1].set_title('Customers by Region')\n",
    "ax[1].pie(df['uk_region'].value_counts(), labels = region_labels, colors=[colors[0],colors[3], colors[5]],  startangle = 90, \n",
    "        explode = [0.2, 0, 0])\n",
    "\n",
    "# The following code will add a legend to each chart indicating the percentages,\n",
    "# hence the use of (count/len(df))*100 to return each count as a percentage of\n",
    "# the total number of rows in the dataframe.\n",
    "\n",
    "labels = [f'{value}, {(count/len(df))*100:0.1f}%' for value, count in zip(age_labels, age_range.value_counts())]\n",
    "ax[0].legend(bbox_to_anchor=(0, 0), loc='upper left', labels=labels)\n",
    "\n",
    "labels = [f'{value}, {(count/len(df)*100):0.1f}%' for value, count in zip(region_labels, df['uk_region'].value_counts())]\n",
    "ax[1].legend(bbox_to_anchor=(0, 0), loc='upper left', labels=labels)\n",
    "\n",
    "plt.savefig('Demographics.png', bbox_inches='tight', dpi=150, facecolor=(1,1,1))\n",
    "plt.show()"
   ]
  },
  {
   "cell_type": "markdown",
   "id": "b7eb28e3",
   "metadata": {},
   "source": [
    "#### Conclusion\n",
    "The first of these visuals shows that the most popular age demographic is people under 25, followed by those over 55 and then between 30-34. Conversely, the least popular age demographics are ages 25-29 and 40-44, for which there were no recorded sales, and people aged 45-54, who comprised only 8% of customers.\n",
    "\n",
    "The second visual shows that the North East and South East are by far the most popular customer regions. Conversely, UK North represents around just 16% of customers, and the South recorded none whatsoever.\n",
    "\n",
    "Marketing may want to either focus on their best-performing demographics, or help boost the under-performing ones. Either way, these visuals should help them draw the conclusions they need and allocate resources, as necessary."
   ]
  },
  {
   "cell_type": "markdown",
   "id": "80aeb00f",
   "metadata": {},
   "source": [
    "### Objective 3: Sales Throughout the Year"
   ]
  },
  {
   "cell_type": "markdown",
   "id": "925df7d1",
   "metadata": {},
   "source": [
    "For this objective, I will plot the number of sales against the month to determine which months perform best and whether or not the sales seem seasonal.\n",
    "\n",
    "Firstly, I will create the following view in MySQL:\n",
    "\n",
    "CREATE VIEW month_sales AS <br>\n",
    "SELECT <br>\n",
    "SUM(CAP.quantity) Sales, <br>\n",
    "CAP.month Month <br>\n",
    "FROM clean_capstone_data CAP <br>\n",
    "GROUP BY CAP.month <br>\n",
    "<br>\n",
    "This view is exported as 'month_sales.csv'"
   ]
  },
  {
   "cell_type": "code",
   "execution_count": 45,
   "id": "32354d33",
   "metadata": {},
   "outputs": [
    {
     "data": {
      "text/html": [
       "<div>\n",
       "<style scoped>\n",
       "    .dataframe tbody tr th:only-of-type {\n",
       "        vertical-align: middle;\n",
       "    }\n",
       "\n",
       "    .dataframe tbody tr th {\n",
       "        vertical-align: top;\n",
       "    }\n",
       "\n",
       "    .dataframe thead th {\n",
       "        text-align: right;\n",
       "    }\n",
       "</style>\n",
       "<table border=\"1\" class=\"dataframe\">\n",
       "  <thead>\n",
       "    <tr style=\"text-align: right;\">\n",
       "      <th></th>\n",
       "      <th>Month</th>\n",
       "      <th>Sales</th>\n",
       "    </tr>\n",
       "  </thead>\n",
       "  <tbody>\n",
       "    <tr>\n",
       "      <th>0</th>\n",
       "      <td>Dec</td>\n",
       "      <td>11</td>\n",
       "    </tr>\n",
       "    <tr>\n",
       "      <th>1</th>\n",
       "      <td>Jan</td>\n",
       "      <td>18</td>\n",
       "    </tr>\n",
       "    <tr>\n",
       "      <th>2</th>\n",
       "      <td>Mar</td>\n",
       "      <td>19</td>\n",
       "    </tr>\n",
       "    <tr>\n",
       "      <th>3</th>\n",
       "      <td>May</td>\n",
       "      <td>2</td>\n",
       "    </tr>\n",
       "    <tr>\n",
       "      <th>4</th>\n",
       "      <td>Oct</td>\n",
       "      <td>16</td>\n",
       "    </tr>\n",
       "  </tbody>\n",
       "</table>\n",
       "</div>"
      ],
      "text/plain": [
       "  Month  Sales\n",
       "0   Dec     11\n",
       "1   Jan     18\n",
       "2   Mar     19\n",
       "3   May      2\n",
       "4   Oct     16"
      ]
     },
     "execution_count": 45,
     "metadata": {},
     "output_type": "execute_result"
    }
   ],
   "source": [
    "month_sales = pd.read_csv('month_sales.csv')\n",
    "month_sales.head()"
   ]
  },
  {
   "cell_type": "markdown",
   "id": "b8d9644d",
   "metadata": {},
   "source": [
    "I want to order this so that January is the first month. This can be done using pd.concat()."
   ]
  },
  {
   "cell_type": "code",
   "execution_count": 46,
   "id": "4d4dade1",
   "metadata": {},
   "outputs": [
    {
     "data": {
      "text/html": [
       "<div>\n",
       "<style scoped>\n",
       "    .dataframe tbody tr th:only-of-type {\n",
       "        vertical-align: middle;\n",
       "    }\n",
       "\n",
       "    .dataframe tbody tr th {\n",
       "        vertical-align: top;\n",
       "    }\n",
       "\n",
       "    .dataframe thead th {\n",
       "        text-align: right;\n",
       "    }\n",
       "</style>\n",
       "<table border=\"1\" class=\"dataframe\">\n",
       "  <thead>\n",
       "    <tr style=\"text-align: right;\">\n",
       "      <th></th>\n",
       "      <th>Month</th>\n",
       "      <th>Sales</th>\n",
       "    </tr>\n",
       "  </thead>\n",
       "  <tbody>\n",
       "    <tr>\n",
       "      <th>1</th>\n",
       "      <td>Jan</td>\n",
       "      <td>18</td>\n",
       "    </tr>\n",
       "    <tr>\n",
       "      <th>2</th>\n",
       "      <td>Mar</td>\n",
       "      <td>19</td>\n",
       "    </tr>\n",
       "    <tr>\n",
       "      <th>3</th>\n",
       "      <td>May</td>\n",
       "      <td>2</td>\n",
       "    </tr>\n",
       "    <tr>\n",
       "      <th>4</th>\n",
       "      <td>Oct</td>\n",
       "      <td>16</td>\n",
       "    </tr>\n",
       "    <tr>\n",
       "      <th>0</th>\n",
       "      <td>Dec</td>\n",
       "      <td>11</td>\n",
       "    </tr>\n",
       "  </tbody>\n",
       "</table>\n",
       "</div>"
      ],
      "text/plain": [
       "  Month  Sales\n",
       "1   Jan     18\n",
       "2   Mar     19\n",
       "3   May      2\n",
       "4   Oct     16\n",
       "0   Dec     11"
      ]
     },
     "execution_count": 46,
     "metadata": {},
     "output_type": "execute_result"
    }
   ],
   "source": [
    "month_sales = pd.concat([month_sales[1:], month_sales[0:1]])\n",
    "month_sales.head()"
   ]
  },
  {
   "cell_type": "code",
   "execution_count": 47,
   "id": "73b239c0",
   "metadata": {},
   "outputs": [
    {
     "data": {
      "image/png": "[encoded data removed]",
      "text/plain": [
       "<Figure size 1152x432 with 1 Axes>"
      ]
     },
     "metadata": {},
     "output_type": "display_data"
    }
   ],
   "source": [
    "fig, ax = plt.subplots(1, 1, figsize = (16,6))\n",
    "\n",
    "X = month_sales['Month']\n",
    "y = month_sales['Sales']\n",
    "\n",
    "ax.plot(X, y, color = '#683bab', marker = 'o', linewidth = 2)\n",
    "\n",
    "ax.set_xlabel('Month', fontdict={'fontsize':14}, labelpad=12)\n",
    "ax.set_ylabel('Quantity of Sales', fontdict={'fontsize':14}, labelpad=12)\n",
    "ax.set_title('Total Sales by Month', fontdict={'fontsize':16}, pad=12)\n",
    "\n",
    "plt.savefig('Month_Sales.png', bbox_inches='tight', dpi=150, facecolor=(1,1,1))\n",
    "plt.show()"
   ]
  },
  {
   "cell_type": "markdown",
   "id": "811ecef3",
   "metadata": {},
   "source": [
    "#### Conclusion\n",
    "It's clear that sales perform considerably worse around May than at any other time of year. This is an indication that sales are indeed seasonal, drastically underperforming in the summer months. Conversely, they perform best between January and March, with the peak number of sales occurring in the spring. After summer, the sales increase again during autumn, but then there is another clear downward trend as winter begins. We could expect to see that the sales would pick up again in the new year, completing the cycle."
   ]
  },
  {
   "cell_type": "markdown",
   "id": "9d89e9fc",
   "metadata": {},
   "source": [
    "### Objective 4: Performance by Region"
   ]
  },
  {
   "cell_type": "markdown",
   "id": "514e31ac",
   "metadata": {},
   "source": [
    "I will use the following view created in MySQL:\n",
    "\n",
    "CREATE VIEW regions AS <br>\n",
    "SELECT <br>\n",
    "SUM(CAP.quantity) Sales, <br>\n",
    "CAP.uk_region Region <br>\n",
    "FROM clean_capstone_data CAP <br>\n",
    "GROUP BY CAP.uk_region <br>\n",
    "<br>\n",
    "This view is exported as 'regions.csv' <br>\n",
    "The number of sales will be read as an integer<br>"
   ]
  },
  {
   "cell_type": "code",
   "execution_count": 48,
   "id": "75198d21",
   "metadata": {},
   "outputs": [
    {
     "data": {
      "text/html": [
       "<div>\n",
       "<style scoped>\n",
       "    .dataframe tbody tr th:only-of-type {\n",
       "        vertical-align: middle;\n",
       "    }\n",
       "\n",
       "    .dataframe tbody tr th {\n",
       "        vertical-align: top;\n",
       "    }\n",
       "\n",
       "    .dataframe thead th {\n",
       "        text-align: right;\n",
       "    }\n",
       "</style>\n",
       "<table border=\"1\" class=\"dataframe\">\n",
       "  <thead>\n",
       "    <tr style=\"text-align: right;\">\n",
       "      <th></th>\n",
       "      <th>Sales</th>\n",
       "      <th>Region</th>\n",
       "    </tr>\n",
       "  </thead>\n",
       "  <tbody>\n",
       "    <tr>\n",
       "      <th>0</th>\n",
       "      <td>10</td>\n",
       "      <td>UK North</td>\n",
       "    </tr>\n",
       "    <tr>\n",
       "      <th>1</th>\n",
       "      <td>20</td>\n",
       "      <td>UK North East</td>\n",
       "    </tr>\n",
       "    <tr>\n",
       "      <th>2</th>\n",
       "      <td>36</td>\n",
       "      <td>UK South East</td>\n",
       "    </tr>\n",
       "  </tbody>\n",
       "</table>\n",
       "</div>"
      ],
      "text/plain": [
       "   Sales         Region\n",
       "0     10       UK North\n",
       "1     20  UK North East\n",
       "2     36  UK South East"
      ]
     },
     "execution_count": 48,
     "metadata": {},
     "output_type": "execute_result"
    }
   ],
   "source": [
    "regions = pd.read_csv('regions.csv')\n",
    "regions['Sales'] = regions['Sales'].astype(int)\n",
    "regions.head()"
   ]
  },
  {
   "cell_type": "markdown",
   "id": "f60ddc5f",
   "metadata": {},
   "source": [
    "I will also use this view for objective 4:\n",
    "\n",
    "CREATE VIEW region_sales AS <br>\n",
    "SELECT <br>\n",
    "CAP.product, <br>\n",
    "CAP.uk_region, <br>\n",
    "SUM(CAP.quantity) sold <br>\n",
    "FROM clean_capstone_data CAP <br>\n",
    "GROUP BY CAP.product, CAP.uk_region <br>\n",
    "<br>\n",
    "This view is exported as 'region_sales.csv'"
   ]
  },
  {
   "cell_type": "code",
   "execution_count": 49,
   "id": "b44faf53",
   "metadata": {},
   "outputs": [
    {
     "data": {
      "text/html": [
       "<div>\n",
       "<style scoped>\n",
       "    .dataframe tbody tr th:only-of-type {\n",
       "        vertical-align: middle;\n",
       "    }\n",
       "\n",
       "    .dataframe tbody tr th {\n",
       "        vertical-align: top;\n",
       "    }\n",
       "\n",
       "    .dataframe thead th {\n",
       "        text-align: right;\n",
       "    }\n",
       "</style>\n",
       "<table border=\"1\" class=\"dataframe\">\n",
       "  <thead>\n",
       "    <tr style=\"text-align: right;\">\n",
       "      <th></th>\n",
       "      <th>uk_region</th>\n",
       "      <th>sold</th>\n",
       "      <th>Product</th>\n",
       "    </tr>\n",
       "  </thead>\n",
       "  <tbody>\n",
       "    <tr>\n",
       "      <th>0</th>\n",
       "      <td>UK North</td>\n",
       "      <td>10</td>\n",
       "      <td>Toothbrush</td>\n",
       "    </tr>\n",
       "    <tr>\n",
       "      <th>1</th>\n",
       "      <td>UK North East</td>\n",
       "      <td>20</td>\n",
       "      <td>Toothbrush</td>\n",
       "    </tr>\n",
       "    <tr>\n",
       "      <th>2</th>\n",
       "      <td>UK South East</td>\n",
       "      <td>9</td>\n",
       "      <td>Toothbrush</td>\n",
       "    </tr>\n",
       "    <tr>\n",
       "      <th>3</th>\n",
       "      <td>UK South East</td>\n",
       "      <td>27</td>\n",
       "      <td>Toys</td>\n",
       "    </tr>\n",
       "  </tbody>\n",
       "</table>\n",
       "</div>"
      ],
      "text/plain": [
       "       uk_region  sold     Product\n",
       "0       UK North    10  Toothbrush\n",
       "1  UK North East    20  Toothbrush\n",
       "2  UK South East     9  Toothbrush\n",
       "3  UK South East    27        Toys"
      ]
     },
     "execution_count": 49,
     "metadata": {},
     "output_type": "execute_result"
    }
   ],
   "source": [
    "region_sales = pd.read_csv('region_sales.csv')\n",
    "region_sales['sold'] = region_sales['sold'].astype(int)\n",
    "\n",
    "# Cleaning up data for plotting purposes\n",
    "region_sales['Product'] = region_sales['product'].str.capitalize()\n",
    "del region_sales['product']\n",
    "region_sales.head()"
   ]
  },
  {
   "cell_type": "markdown",
   "id": "230a0a83",
   "metadata": {},
   "source": [
    "I will convert this into a plottable DataFrame:"
   ]
  },
  {
   "cell_type": "code",
   "execution_count": 50,
   "id": "2de9377c",
   "metadata": {},
   "outputs": [
    {
     "data": {
      "text/html": [
       "<div>\n",
       "<style scoped>\n",
       "    .dataframe tbody tr th:only-of-type {\n",
       "        vertical-align: middle;\n",
       "    }\n",
       "\n",
       "    .dataframe tbody tr th {\n",
       "        vertical-align: top;\n",
       "    }\n",
       "\n",
       "    .dataframe thead th {\n",
       "        text-align: right;\n",
       "    }\n",
       "</style>\n",
       "<table border=\"1\" class=\"dataframe\">\n",
       "  <thead>\n",
       "    <tr style=\"text-align: right;\">\n",
       "      <th>Product</th>\n",
       "      <th>Toothbrush</th>\n",
       "      <th>Toys</th>\n",
       "    </tr>\n",
       "    <tr>\n",
       "      <th>uk_region</th>\n",
       "      <th></th>\n",
       "      <th></th>\n",
       "    </tr>\n",
       "  </thead>\n",
       "  <tbody>\n",
       "    <tr>\n",
       "      <th>UK North</th>\n",
       "      <td>10</td>\n",
       "      <td>0</td>\n",
       "    </tr>\n",
       "    <tr>\n",
       "      <th>UK North East</th>\n",
       "      <td>20</td>\n",
       "      <td>0</td>\n",
       "    </tr>\n",
       "    <tr>\n",
       "      <th>UK South East</th>\n",
       "      <td>9</td>\n",
       "      <td>27</td>\n",
       "    </tr>\n",
       "  </tbody>\n",
       "</table>\n",
       "</div>"
      ],
      "text/plain": [
       "Product        Toothbrush  Toys\n",
       "uk_region                      \n",
       "UK North               10     0\n",
       "UK North East          20     0\n",
       "UK South East           9    27"
      ]
     },
     "execution_count": 50,
     "metadata": {},
     "output_type": "execute_result"
    }
   ],
   "source": [
    "plotdata = region_sales.pivot_table('sold', ['uk_region'], 'Product')\n",
    "plotdata = plotdata.fillna(0)\n",
    "\n",
    "plotdata.head()"
   ]
  },
  {
   "cell_type": "code",
   "execution_count": 51,
   "id": "c0a1f035",
   "metadata": {},
   "outputs": [
    {
     "data": {
      "image/png": "[encoded data removed]",
      "text/plain": [
       "<Figure size 1152x432 with 2 Axes>"
      ]
     },
     "metadata": {},
     "output_type": "display_data"
    }
   ],
   "source": [
    "fig, ax = plt.subplots(1,2, figsize = (16,6))\n",
    "\n",
    "X = regions['Region']\n",
    "y = regions['Sales']\n",
    "\n",
    "ax[0].bar(x=X, height=y, color = ['#4a2b7a', '#683bab','#9455f4'])\n",
    "\n",
    "ax[0].set_xlabel('Region', fontdict={'fontsize':14}, labelpad=12)\n",
    "ax[0].set_ylabel('Quantity of Sales', fontdict={'fontsize':14}, labelpad=12)\n",
    "ax[0].set_title('Total Sales by Region', fontdict={'fontsize':16}, pad=12)\n",
    "\n",
    "plotdata.plot(kind='bar', ax=ax[1], color = ['#4a2b7a', '#9455f4'], rot=0)\n",
    "\n",
    "ax[1].set_xlabel('Region', fontdict={'fontsize':14}, labelpad=12)\n",
    "ax[1].set_ylabel('Quantity of Sales', fontdict={'fontsize':14}, labelpad=12)\n",
    "ax[1].set_title('Product Sales by Region', fontdict={'fontsize':16}, pad=12)\n",
    "    \n",
    "plt.subplots_adjust(wspace = 0.3) \n",
    "plt.savefig('Region_Sales.png', bbox_inches='tight', dpi=150, facecolor=(1,1,1))\n",
    "plt.show()"
   ]
  },
  {
   "cell_type": "code",
   "execution_count": 52,
   "id": "a5da0c7c",
   "metadata": {},
   "outputs": [
    {
     "name": "stdout",
     "output_type": "stream",
     "text": [
      "UK North recorded 15.2% of total sales\n",
      "UK North East recorded 30.3% of total sales\n",
      "UK South East recorded 54.5% of total sales\n"
     ]
    }
   ],
   "source": [
    "print(f'UK North recorded {round(10*100/66, 1)}% of total sales')\n",
    "print(f'UK North East recorded {round(20*100/66, 1)}% of total sales')\n",
    "print(f'UK South East recorded {round(36*100/66, 1)}% of total sales')"
   ]
  },
  {
   "cell_type": "markdown",
   "id": "e3bc31f2",
   "metadata": {},
   "source": [
    "#### Conclusion\n",
    "Firstly, marketing in the UK South region has proven to be wasteful expenditure, as there have been no recorded sales. Undoubtedly, the expenditure can be justified in the South East as they have recorded 54.5% of all sales with just 44% of total customers. The North East represents 40% of customers, yet they only made up 30.3% of total sales, suggesting that people in this region purchase products in lower quantities. Finally, while, on the face of it, it seems that the North is lacking, with 15.2% of total sales from just 16% of customers, this region is actually performing fairly well.\n",
    "\n",
    "Outside of the South East, there were no recorded toys sales. If the marketing team have been advertising toys outside of this region, it's safe to say that this was wasteful expenditure. Moreover, despite this high volume of toy sales, the toothbrush sales in the South East were fairly low, comparable to those in the North (despite a large difference in customer numbers), and the majority being sold in the North East. This could still be indicative of wasteful expenditure if the allocation of marketing spend was uniform across all regions, as we'd hope to see an equal split in customer numbers and sales across each region if that were the case."
   ]
  },
  {
   "cell_type": "markdown",
   "id": "28b19092",
   "metadata": {},
   "source": [
    "### Objective 5: CPAs Per Region"
   ]
  },
  {
   "cell_type": "markdown",
   "id": "d698a11b",
   "metadata": {},
   "source": [
    "In order to compare the CPA per region against the regional average, I will need to scrape that information from the given URL. It is worth noting that this information seems to only be relevant for purchases made in October 2021.\n",
    "\n",
    "Firstly, I will use the requests and BeautifulSoup packages to retrieve the page content for the URL."
   ]
  },
  {
   "cell_type": "code",
   "execution_count": 53,
   "id": "11b9bbf9",
   "metadata": {},
   "outputs": [
    {
     "name": "stdout",
     "output_type": "stream",
     "text": [
      "<bound method Tag.prettify of <html>\n",
      "<head>\n",
      "</head>\n",
      "<body>\n",
      "<h1>Marketing Data October 2021</h1>\n",
      "<table style=\"width: 100%\">\n",
      "<tr style=\"font-weight: bold\">\n",
      "<th style=\"width: 50%\">Region\n",
      "<th style=\"\">Average CPA by Region\n",
      "</th></th></tr>\n",
      "<tr>\n",
      "<td class=\"region\">South East</td>\n",
      "<td id=\"south_east\">£10.00</td>\n",
      "</tr>\n",
      "<tr>\n",
      "<td class=\"region\">North East</td>\n",
      "<td id=\"north_east\">£10.00</td>\n",
      "</tr>\n",
      "<tr>\n",
      "<td class=\"region\">North</td>\n",
      "<td id=\"north\">£8.00</td>\n",
      "</tr>\n",
      "<tr>\n",
      "<td class=\"region\">South</td>\n",
      "<td id=\"south\">£10.00</td>\n",
      "</tr>\n",
      "</table>\n",
      "</body>\n",
      "</html>\n",
      ">\n"
     ]
    }
   ],
   "source": [
    "URL = 'https://mystaticwebsite-3.s3.amazonaws.com/index.html'\n",
    "page = requests.get(URL)\n",
    "soup = BeautifulSoup(page.content, 'html.parser')\n",
    "\n",
    "print(soup.prettify)"
   ]
  },
  {
   "cell_type": "markdown",
   "id": "d07cd158",
   "metadata": {},
   "source": [
    "I will now narrow down my search based on the elements of the page that are holding the data I wish to obtain."
   ]
  },
  {
   "cell_type": "code",
   "execution_count": 54,
   "id": "59544cf1",
   "metadata": {},
   "outputs": [
    {
     "name": "stdout",
     "output_type": "stream",
     "text": [
      "<bound method Tag.prettify of <table style=\"width: 100%\">\n",
      "<tr style=\"font-weight: bold\">\n",
      "<th style=\"width: 50%\">Region\n",
      "<th style=\"\">Average CPA by Region\n",
      "</th></th></tr>\n",
      "<tr>\n",
      "<td class=\"region\">South East</td>\n",
      "<td id=\"south_east\">£10.00</td>\n",
      "</tr>\n",
      "<tr>\n",
      "<td class=\"region\">North East</td>\n",
      "<td id=\"north_east\">£10.00</td>\n",
      "</tr>\n",
      "<tr>\n",
      "<td class=\"region\">North</td>\n",
      "<td id=\"north\">£8.00</td>\n",
      "</tr>\n",
      "<tr>\n",
      "<td class=\"region\">South</td>\n",
      "<td id=\"south\">£10.00</td>\n",
      "</tr>\n",
      "</table>>\n"
     ]
    }
   ],
   "source": [
    "results = soup.find('table')\n",
    "print(results.prettify)"
   ]
  },
  {
   "cell_type": "markdown",
   "id": "5b0ef254",
   "metadata": {},
   "source": [
    "Finally, I will collect this data into two lists, one for the region and one for the expected average CPA. I will zip this into a dictionary."
   ]
  },
  {
   "cell_type": "code",
   "execution_count": 55,
   "id": "66b47a46",
   "metadata": {},
   "outputs": [
    {
     "name": "stdout",
     "output_type": "stream",
     "text": [
      "{'UK South East': 10.0, 'UK North East': 10.0, 'UK North': 8.0, 'UK South': 10.0}\n"
     ]
    }
   ],
   "source": [
    "cpa_elements = results.find_all('tr')\n",
    "\n",
    "regions = []\n",
    "\n",
    "# This is my regular expression for finding a price in the format \n",
    "# £__.xx, returning a list of all prices in order of appearance on the page\n",
    "# I then make this a float value without the £ symbol\n",
    "re_cpas = '([£]\\d+\\.\\d{2})'\n",
    "cpas = (re.findall(re_cpas, str(cpa_elements)))\n",
    "cpas =  [float(x.replace('£', '')) for x in cpas]\n",
    "\n",
    "for cpa_element in cpa_elements:\n",
    "    region_element = cpa_element.find(class_='region')\n",
    "    try:\n",
    "        regions.append('UK ' + region_element.text.strip())\n",
    "    except:\n",
    "        pass\n",
    "        # I included this exception to avoid NoneType errors\n",
    "\n",
    "expected_cpas = dict(zip(regions, cpas))\n",
    "print(expected_cpas)"
   ]
  },
  {
   "cell_type": "markdown",
   "id": "e0cd6317",
   "metadata": {},
   "source": [
    "I will sort this dictionary into alphabetical order:"
   ]
  },
  {
   "cell_type": "code",
   "execution_count": 56,
   "id": "7d821bd6",
   "metadata": {},
   "outputs": [
    {
     "name": "stdout",
     "output_type": "stream",
     "text": [
      "{'UK North': 8.0, 'UK North East': 10.0, 'UK South': 10.0, 'UK South East': 10.0}\n"
     ]
    }
   ],
   "source": [
    "sorted_cpas = {key: value for key, value in sorted(expected_cpas.items())}\n",
    "\n",
    "print(sorted_cpas)"
   ]
  },
  {
   "cell_type": "markdown",
   "id": "71d657da",
   "metadata": {},
   "source": [
    "I will now compare these values to my cleaned data, specifically against all entries for October 2021. This was found using the following MySQL query:\n",
    "\n",
    "CREATE VIEW CPAs AS <br>\n",
    "SELECT <br>\n",
    "CAP.uk_region Region, <br>\n",
    "AVG(CAP.cpa) Avg_CPA <br>\n",
    "FROM clean_capstone_data CAP <br>\n",
    "WHERE month = 'Oct' and year = '2021' <br>\n",
    "GROUP BY CAP.uk_region <br>\n",
    "\n",
    "This view is exported as 'CPAs.csv' and float values will be rounded to 2 decimal places <br>\n",
    "I will also add in an empty 'UK South' row."
   ]
  },
  {
   "cell_type": "code",
   "execution_count": 57,
   "id": "0b1f68d1",
   "metadata": {},
   "outputs": [
    {
     "data": {
      "text/html": [
       "<div>\n",
       "<style scoped>\n",
       "    .dataframe tbody tr th:only-of-type {\n",
       "        vertical-align: middle;\n",
       "    }\n",
       "\n",
       "    .dataframe tbody tr th {\n",
       "        vertical-align: top;\n",
       "    }\n",
       "\n",
       "    .dataframe thead th {\n",
       "        text-align: right;\n",
       "    }\n",
       "</style>\n",
       "<table border=\"1\" class=\"dataframe\">\n",
       "  <thead>\n",
       "    <tr style=\"text-align: right;\">\n",
       "      <th></th>\n",
       "      <th>Region</th>\n",
       "      <th>Actual CPA Average</th>\n",
       "    </tr>\n",
       "  </thead>\n",
       "  <tbody>\n",
       "    <tr>\n",
       "      <th>0</th>\n",
       "      <td>UK North</td>\n",
       "      <td>4.67</td>\n",
       "    </tr>\n",
       "    <tr>\n",
       "      <th>1</th>\n",
       "      <td>UK North East</td>\n",
       "      <td>2.50</td>\n",
       "    </tr>\n",
       "    <tr>\n",
       "      <th>2</th>\n",
       "      <td>UK South East</td>\n",
       "      <td>3.71</td>\n",
       "    </tr>\n",
       "    <tr>\n",
       "      <th>3</th>\n",
       "      <td>UK South</td>\n",
       "      <td>0.00</td>\n",
       "    </tr>\n",
       "  </tbody>\n",
       "</table>\n",
       "</div>"
      ],
      "text/plain": [
       "          Region  Actual CPA Average\n",
       "0       UK North                4.67\n",
       "1  UK North East                2.50\n",
       "2  UK South East                3.71\n",
       "3       UK South                0.00"
      ]
     },
     "execution_count": 57,
     "metadata": {},
     "output_type": "execute_result"
    }
   ],
   "source": [
    "CPAs = pd.read_csv('CPAs.csv', index_col=False)\n",
    "pd.options.display.float_format = '{:,.2f}'.format\n",
    "\n",
    "# Adding an empty row for UK South data\n",
    "new_row = pd.Series(data={'Region':'UK South', 'Avg_CPA': 0})\n",
    "new_df = pd.DataFrame([new_row])\n",
    "CPAs = pd.concat([CPAs, new_df], axis=0, ignore_index=True)\n",
    "\n",
    "# Tidying up the column name for my plot\n",
    "CPAs['Actual CPA Average'] = CPAs['Avg_CPA']\n",
    "del CPAs['Avg_CPA']\n",
    "\n",
    "CPAs.head()"
   ]
  },
  {
   "cell_type": "markdown",
   "id": "491bd734",
   "metadata": {},
   "source": [
    "Again, I want to sort this alphabetically:"
   ]
  },
  {
   "cell_type": "code",
   "execution_count": 58,
   "id": "48ba2b0b",
   "metadata": {},
   "outputs": [
    {
     "data": {
      "text/html": [
       "<div>\n",
       "<style scoped>\n",
       "    .dataframe tbody tr th:only-of-type {\n",
       "        vertical-align: middle;\n",
       "    }\n",
       "\n",
       "    .dataframe tbody tr th {\n",
       "        vertical-align: top;\n",
       "    }\n",
       "\n",
       "    .dataframe thead th {\n",
       "        text-align: right;\n",
       "    }\n",
       "</style>\n",
       "<table border=\"1\" class=\"dataframe\">\n",
       "  <thead>\n",
       "    <tr style=\"text-align: right;\">\n",
       "      <th></th>\n",
       "      <th>Region</th>\n",
       "      <th>Actual CPA Average</th>\n",
       "    </tr>\n",
       "  </thead>\n",
       "  <tbody>\n",
       "    <tr>\n",
       "      <th>0</th>\n",
       "      <td>UK North</td>\n",
       "      <td>4.67</td>\n",
       "    </tr>\n",
       "    <tr>\n",
       "      <th>1</th>\n",
       "      <td>UK North East</td>\n",
       "      <td>2.50</td>\n",
       "    </tr>\n",
       "    <tr>\n",
       "      <th>2</th>\n",
       "      <td>UK South East</td>\n",
       "      <td>3.71</td>\n",
       "    </tr>\n",
       "    <tr>\n",
       "      <th>3</th>\n",
       "      <td>UK South</td>\n",
       "      <td>0.00</td>\n",
       "    </tr>\n",
       "  </tbody>\n",
       "</table>\n",
       "</div>"
      ],
      "text/plain": [
       "          Region  Actual CPA Average\n",
       "0       UK North                4.67\n",
       "1  UK North East                2.50\n",
       "2  UK South East                3.71\n",
       "3       UK South                0.00"
      ]
     },
     "execution_count": 58,
     "metadata": {},
     "output_type": "execute_result"
    }
   ],
   "source": [
    "CPAs.sort_values('Region')\n",
    "CPAs.head()"
   ]
  },
  {
   "cell_type": "markdown",
   "id": "b0f40cee",
   "metadata": {},
   "source": [
    "Finally, I want to add a column of expected CPA values using my web scraping results:"
   ]
  },
  {
   "cell_type": "code",
   "execution_count": 59,
   "id": "db2c3d4c",
   "metadata": {},
   "outputs": [
    {
     "data": {
      "text/html": [
       "<div>\n",
       "<style scoped>\n",
       "    .dataframe tbody tr th:only-of-type {\n",
       "        vertical-align: middle;\n",
       "    }\n",
       "\n",
       "    .dataframe tbody tr th {\n",
       "        vertical-align: top;\n",
       "    }\n",
       "\n",
       "    .dataframe thead th {\n",
       "        text-align: right;\n",
       "    }\n",
       "</style>\n",
       "<table border=\"1\" class=\"dataframe\">\n",
       "  <thead>\n",
       "    <tr style=\"text-align: right;\">\n",
       "      <th></th>\n",
       "      <th>Region</th>\n",
       "      <th>Actual CPA Average</th>\n",
       "      <th>Expected CPA Average</th>\n",
       "    </tr>\n",
       "  </thead>\n",
       "  <tbody>\n",
       "    <tr>\n",
       "      <th>0</th>\n",
       "      <td>UK North</td>\n",
       "      <td>4.67</td>\n",
       "      <td>8.00</td>\n",
       "    </tr>\n",
       "    <tr>\n",
       "      <th>1</th>\n",
       "      <td>UK North East</td>\n",
       "      <td>2.50</td>\n",
       "      <td>10.00</td>\n",
       "    </tr>\n",
       "    <tr>\n",
       "      <th>2</th>\n",
       "      <td>UK South East</td>\n",
       "      <td>3.71</td>\n",
       "      <td>10.00</td>\n",
       "    </tr>\n",
       "    <tr>\n",
       "      <th>3</th>\n",
       "      <td>UK South</td>\n",
       "      <td>0.00</td>\n",
       "      <td>10.00</td>\n",
       "    </tr>\n",
       "  </tbody>\n",
       "</table>\n",
       "</div>"
      ],
      "text/plain": [
       "          Region  Actual CPA Average  Expected CPA Average\n",
       "0       UK North                4.67                  8.00\n",
       "1  UK North East                2.50                 10.00\n",
       "2  UK South East                3.71                 10.00\n",
       "3       UK South                0.00                 10.00"
      ]
     },
     "execution_count": 59,
     "metadata": {},
     "output_type": "execute_result"
    }
   ],
   "source": [
    "cpas = []\n",
    "\n",
    "for key, value in sorted_cpas.items():\n",
    "    cpas.append(value)\n",
    "\n",
    "CPAs['Expected CPA Average'] = cpas\n",
    "\n",
    "CPAs.head()"
   ]
  },
  {
   "cell_type": "code",
   "execution_count": 60,
   "id": "89f64bb8",
   "metadata": {},
   "outputs": [
    {
     "data": {
      "image/png": "[encoded data removed]",
      "text/plain": [
       "<Figure size 1152x432 with 1 Axes>"
      ]
     },
     "metadata": {},
     "output_type": "display_data"
    }
   ],
   "source": [
    "fig, ax = plt.subplots(1,1, figsize = (16,6))\n",
    "\n",
    "\n",
    "CPAs.plot(x = 'Region', kind='bar', ax=ax,color = ['#4a2b7a', '#9455f4'], rot=0)\n",
    "\n",
    "ax.set_xlabel('Region', fontdict={'fontsize':14}, labelpad=12)\n",
    "ax.set_ylabel('CPA (Cost per Acquisiton, £)', fontdict={'fontsize':14}, labelpad=12)\n",
    "ax.set_title('Average vs Expected CPA by Region', fontdict={'fontsize':16}, pad=12)\n",
    "\n",
    "\n",
    "plt.savefig('Region_CPAs.png', bbox_inches='tight', dpi=150, facecolor=(1,1,1))\n",
    "plt.show()"
   ]
  },
  {
   "cell_type": "markdown",
   "id": "5c586084",
   "metadata": {},
   "source": [
    "#### Conclusion\n",
    "For all three regions where we had data, it was evident that the actual CPA was significantly below the expected value. Surprisingly, UK north had the highest actual CPA despite having a lower expected CPA than the others. Nonetheless, this is a positive finding, and shows that the current marketing strategies are acquiring customers at a lower cost than anticipated."
   ]
  }
 ],
 "metadata": {
  "kernelspec": {
   "display_name": "Python 3 (ipykernel)",
   "language": "python",
   "name": "python3"
  },
  "language_info": {
   "codemirror_mode": {
    "name": "ipython",
    "version": 3
   },
   "file_extension": ".py",
   "mimetype": "text/x-python",
   "name": "python",
   "nbconvert_exporter": "python",
   "pygments_lexer": "ipython3",
   "version": "3.9.12"
  }
 },
 "nbformat": 4,
 "nbformat_minor": 5
}
